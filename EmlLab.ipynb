{
  "nbformat": 4,
  "nbformat_minor": 0,
  "metadata": {
    "colab": {
      "provenance": []
    },
    "kernelspec": {
      "name": "python3",
      "display_name": "Python 3"
    },
    "language_info": {
      "name": "python"
    }
  },
  "cells": [
    {
      "cell_type": "markdown",
      "source": [
        "#Week-1"
      ],
      "metadata": {
        "id": "Vn28T54dbTm6"
      }
    },
    {
      "cell_type": "code",
      "execution_count": 39,
      "metadata": {
        "id": "Z4gmwWlHL0Jj"
      },
      "outputs": [],
      "source": [
        "import numpy as np"
      ]
    },
    {
      "cell_type": "code",
      "source": [
        "matrix = np.array([[1,2,3],[4,5,6],[7,8,9]])\n",
        "print(matrix)"
      ],
      "metadata": {
        "colab": {
          "base_uri": "https://localhost:8080/"
        },
        "id": "H3AWc1IbMddr",
        "outputId": "44f4491f-9386-42a0-c505-b8df652cf276"
      },
      "execution_count": 40,
      "outputs": [
        {
          "output_type": "stream",
          "name": "stdout",
          "text": [
            "[[1 2 3]\n",
            " [4 5 6]\n",
            " [7 8 9]]\n"
          ]
        }
      ]
    },
    {
      "cell_type": "code",
      "source": [
        "#getting diagonal elements\n",
        "print(matrix.diagonal())"
      ],
      "metadata": {
        "colab": {
          "base_uri": "https://localhost:8080/"
        },
        "id": "zMc_EtiiMsdS",
        "outputId": "c59f47c3-0f5b-4bf2-e54c-c099b0f7c4f5"
      },
      "execution_count": 41,
      "outputs": [
        {
          "output_type": "stream",
          "name": "stdout",
          "text": [
            "[1 5 9]\n"
          ]
        }
      ]
    },
    {
      "cell_type": "code",
      "source": [
        "#printing elements above and below principal diagonal\n",
        "print(matrix.diagonal(offset=1))\n",
        "print(matrix.diagonal(offset=-1))"
      ],
      "metadata": {
        "colab": {
          "base_uri": "https://localhost:8080/"
        },
        "id": "Sjep0WF7M1FZ",
        "outputId": "d1a4ade8-54e9-4b60-d45e-f82eaeedcf4a"
      },
      "execution_count": 42,
      "outputs": [
        {
          "output_type": "stream",
          "name": "stdout",
          "text": [
            "[2 6]\n",
            "[4 8]\n"
          ]
        }
      ]
    },
    {
      "cell_type": "code",
      "source": [
        "#trace of a matrix\n",
        "print(matrix.trace())"
      ],
      "metadata": {
        "colab": {
          "base_uri": "https://localhost:8080/"
        },
        "id": "4LFuP1j-NIKK",
        "outputId": "1e47af1b-4c08-4049-de70-e62868d968b3"
      },
      "execution_count": 43,
      "outputs": [
        {
          "output_type": "stream",
          "name": "stdout",
          "text": [
            "15\n"
          ]
        }
      ]
    },
    {
      "cell_type": "code",
      "source": [
        "#eigen values and eigen vectors\n",
        "eva,eve = np.linalg.eig(matrix)\n",
        "print(eva)\n",
        "print(eve)"
      ],
      "metadata": {
        "colab": {
          "base_uri": "https://localhost:8080/"
        },
        "id": "10-Zq-pZRJgh",
        "outputId": "a3141861-0f70-42b0-cc9a-91c4f4385d58"
      },
      "execution_count": 44,
      "outputs": [
        {
          "output_type": "stream",
          "name": "stdout",
          "text": [
            "[ 1.61168440e+01 -1.11684397e+00 -1.30367773e-15]\n",
            "[[-0.23197069 -0.78583024  0.40824829]\n",
            " [-0.52532209 -0.08675134 -0.81649658]\n",
            " [-0.8186735   0.61232756  0.40824829]]\n"
          ]
        }
      ]
    },
    {
      "cell_type": "code",
      "source": [
        "#dot product of two vectors\n",
        "v1 = np.array([2,4,3])\n",
        "v2 = np.array([9,8,6])\n",
        "print(np.dot(v1,v2))\n",
        "print(v1@v2)\n",
        "print(v1*v2)"
      ],
      "metadata": {
        "colab": {
          "base_uri": "https://localhost:8080/"
        },
        "id": "Df1Y_p1qRZ-6",
        "outputId": "2ec2c26d-02c8-428e-f2b2-b4361a72f189"
      },
      "execution_count": 45,
      "outputs": [
        {
          "output_type": "stream",
          "name": "stdout",
          "text": [
            "68\n",
            "68\n",
            "[18 32 18]\n"
          ]
        }
      ]
    },
    {
      "cell_type": "code",
      "source": [
        "#addition,subtraction and multiplication of two matrices\n",
        "m1 = np.array([[1,2,3],[4,5,6],[3,6,9]])\n",
        "m2 = np.array([[9,8,7],[6,5,4],[3,2,1]])\n",
        "print(m1+m2) #np.add(m1,m2)\n",
        "print(m1-m2) #np.subtract(m1,m2)\n",
        "print(m1*m2)#np.multiply(m1,m2)"
      ],
      "metadata": {
        "colab": {
          "base_uri": "https://localhost:8080/"
        },
        "id": "hBMz0-L4Snv0",
        "outputId": "6a79e8a8-8afd-4614-f4f0-4b8a4e45a76b"
      },
      "execution_count": 46,
      "outputs": [
        {
          "output_type": "stream",
          "name": "stdout",
          "text": [
            "[[10 10 10]\n",
            " [10 10 10]\n",
            " [ 6  8 10]]\n",
            "[[-8 -6 -4]\n",
            " [-2  0  2]\n",
            " [ 0  4  8]]\n",
            "[[ 9 16 21]\n",
            " [24 25 24]\n",
            " [ 9 12  9]]\n"
          ]
        }
      ]
    },
    {
      "cell_type": "markdown",
      "source": [
        "#Another way"
      ],
      "metadata": {
        "id": "b9e-6iUXUio7"
      }
    },
    {
      "cell_type": "code",
      "source": [
        "print(np.add(m1,m2))\n",
        "print(np.subtract(m1,m2))\n",
        "print(np.multiply(m1,m2))"
      ],
      "metadata": {
        "colab": {
          "base_uri": "https://localhost:8080/"
        },
        "id": "goSAk2bZTPsx",
        "outputId": "b40526f9-2647-42a6-e6ce-dc4a0ea89cd7"
      },
      "execution_count": 47,
      "outputs": [
        {
          "output_type": "stream",
          "name": "stdout",
          "text": [
            "[[10 10 10]\n",
            " [10 10 10]\n",
            " [ 6  8 10]]\n",
            "[[-8 -6 -4]\n",
            " [-2  0  2]\n",
            " [ 0  4  8]]\n",
            "[[ 9 16 21]\n",
            " [24 25 24]\n",
            " [ 9 12  9]]\n"
          ]
        }
      ]
    },
    {
      "cell_type": "code",
      "source": [],
      "metadata": {
        "id": "E2UZB-VoUKzx"
      },
      "execution_count": 47,
      "outputs": []
    },
    {
      "cell_type": "markdown",
      "source": [
        "#Random values"
      ],
      "metadata": {
        "id": "PCR1pA51UpyC"
      }
    },
    {
      "cell_type": "code",
      "source": [
        "ran = np.random.seed(1)\n",
        "print(ran)\n",
        "print(np.random.randint(0,11,3))\n",
        "print(np.random.randint(0,11,5))\n",
        "print(np.random.randint(100,size=100))\n",
        "print(np.random.randint(100,size=5))"
      ],
      "metadata": {
        "colab": {
          "base_uri": "https://localhost:8080/"
        },
        "id": "m2sYcvPtUuPk",
        "outputId": "21d7d75e-1adc-4b2c-c772-3a65ab992207"
      },
      "execution_count": 48,
      "outputs": [
        {
          "output_type": "stream",
          "name": "stdout",
          "text": [
            "None\n",
            "[5 8 9]\n",
            "[5 0 0 1 7]\n",
            "[ 6 25 50 20 18 84 11 28 29 14 50 68 87 87 94 96 86 13  9  7 63 61 22 57\n",
            "  1  0 60 81  8 88 13 47 72 30 71  3 70 21 49 57  3 68 24 43 76 26 52 80\n",
            " 41 82 15 64 68 25 98 87  7 26 25 22  9 67 23 27 37 57 83 38  8 32 34 10\n",
            " 23 15 87 25 71 92 74 62 46 32 88 23 55 65 77  3  0 77  6 52 85 70  2 76\n",
            " 91 21 75  7]\n",
            "[77 72 75 76 43]\n"
          ]
        }
      ]
    },
    {
      "cell_type": "code",
      "source": [
        "#random numbers from array\n",
        "x=np.random.choice([1,3,5,6])\n",
        "y=np.random.choice([1,3,5,7,9],size=(2,4))\n",
        "print(x)\n",
        "print(y)"
      ],
      "metadata": {
        "colab": {
          "base_uri": "https://localhost:8080/"
        },
        "id": "YHgYrdmBVFMM",
        "outputId": "73b2e58f-db62-463f-f46e-333d8e31e57a"
      },
      "execution_count": 49,
      "outputs": [
        {
          "output_type": "stream",
          "name": "stdout",
          "text": [
            "1\n",
            "[[9 9 3 1]\n",
            " [9 5 1 5]]\n"
          ]
        }
      ]
    },
    {
      "cell_type": "code",
      "source": [
        "np.random.normal(size=(2,3))"
      ],
      "metadata": {
        "colab": {
          "base_uri": "https://localhost:8080/"
        },
        "id": "gOpLHJH-ZAIS",
        "outputId": "750a7d79-71f7-4f57-d19e-f2debfec95f7"
      },
      "execution_count": 50,
      "outputs": [
        {
          "output_type": "execute_result",
          "data": {
            "text/plain": [
              "array([[ 0.28558733,  0.88514116, -0.75439794],\n",
              "       [ 1.25286816,  0.51292982, -0.29809284]])"
            ]
          },
          "metadata": {},
          "execution_count": 50
        }
      ]
    },
    {
      "cell_type": "markdown",
      "source": [
        "#Week-2"
      ],
      "metadata": {
        "id": "Wyluae_sbCAF"
      }
    },
    {
      "cell_type": "code",
      "source": [
        "#Creating a DataFrame\n",
        "import pandas as pd"
      ],
      "metadata": {
        "id": "LsebMMXQbQFK"
      },
      "execution_count": 56,
      "outputs": []
    },
    {
      "cell_type": "code",
      "source": [
        "df = pd.DataFrame(np.random.randn(3,5))\n",
        "print(df)"
      ],
      "metadata": {
        "colab": {
          "base_uri": "https://localhost:8080/"
        },
        "id": "7oyzhVKwbq5I",
        "outputId": "ae57d31d-534a-43ae-d84d-283fa38116b5"
      },
      "execution_count": 57,
      "outputs": [
        {
          "output_type": "stream",
          "name": "stdout",
          "text": [
            "          0         1         2         3         4\n",
            "0  0.361236 -0.937864 -1.385656 -0.338881 -0.179255\n",
            "1 -0.240947 -0.247699 -0.168520  0.573709 -0.956773\n",
            "2 -0.651523  0.719275  1.234399 -0.266468  1.564649\n"
          ]
        }
      ]
    },
    {
      "cell_type": "code",
      "source": [],
      "metadata": {
        "id": "zMddkxa0b1IQ"
      },
      "execution_count": null,
      "outputs": []
    }
  ]
}